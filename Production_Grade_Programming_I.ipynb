{
  "nbformat": 4,
  "nbformat_minor": 0,
  "metadata": {
    "kernelspec": {
      "display_name": "Python 3",
      "language": "python",
      "name": "python3"
    },
    "language_info": {
      "codemirror_mode": {
        "name": "ipython",
        "version": 3
      },
      "file_extension": ".py",
      "mimetype": "text/x-python",
      "name": "python",
      "nbconvert_exporter": "python",
      "pygments_lexer": "ipython3",
      "version": "3.7.4"
    },
    "colab": {
      "provenance": [],
      "include_colab_link": true
    }
  },
  "cells": [
    {
      "cell_type": "markdown",
      "metadata": {
        "id": "view-in-github",
        "colab_type": "text"
      },
      "source": [
        "<a href=\"https://colab.research.google.com/github/ajaism/ALma-/blob/master/Production_Grade_Programming_I.ipynb\" target=\"_parent\"><img src=\"https://colab.research.google.com/assets/colab-badge.svg\" alt=\"Open In Colab\"/></a>"
      ]
    },
    {
      "cell_type": "markdown",
      "metadata": {
        "id": "8WbUJEVzs8Bx"
      },
      "source": [
        "## <u>While doing this assignment only use those concepts which have been taught till now</u>"
      ]
    },
    {
      "cell_type": "markdown",
      "metadata": {
        "id": "77zLnpaNvNSp"
      },
      "source": [
        "# <u> Problem 1</u>\n",
        "\n",
        "### Create a class <code>Cylinder</code> which takes two attributes <code>radius</code> and <code>height</code>.\n",
        "\n",
        "### Create the following methods in this class:\n",
        "\n",
        "* ### method <code>volume()</code> which calculates the volume of the cyinder which is defined as $V  = \\pi r^2 h$\n",
        "\n",
        "* ### method <code>surface_area()</code> which calculates the area of the cyinder which is defined as $S  = 2\\pi r h$. Assume this is an open cylinder\n"
      ]
    },
    {
      "cell_type": "code",
      "metadata": {
        "id": "-cWkCZ5OzX0G"
      },
      "source": [
        "# Write your code below. Take pi as 3.14\n",
        "class Cylinder:\n",
        "\n",
        "  def __init__(self,height,radius):\n",
        "    self.radius=radius\n",
        "    self.height=height\n",
        "  def volume(self):\n",
        "    return 3.14*(self.radius)**2 * self.height\n",
        "  def surface_area(self):\n",
        "    return 2*3.14*(self.radius)*(self.height)    \n",
        "\n",
        "\n",
        "\n",
        "\n",
        "\n",
        "\n",
        "\n",
        "\n",
        "\n",
        "\n",
        "\n",
        "\n",
        "\n",
        "\n",
        "  "
      ],
      "execution_count": 1,
      "outputs": []
    },
    {
      "cell_type": "code",
      "metadata": {
        "id": "tgS3mhN-18b_",
        "colab": {
          "base_uri": "https://localhost:8080/"
        },
        "outputId": "47b2ff2f-d528-48dd-97a5-096802e1e15e"
      },
      "source": [
        "# Check for sample inputs\n",
        "\n",
        "sample_cylinder=Cylinder(radius=2, height=4)\n",
        "print(sample_cylinder.surface_area())\n",
        "# print(sample_cylinder.volume())\n",
        "print(sample_cylinder.height)\n",
        "\n",
        "\n",
        "\n",
        "\n",
        "\n"
      ],
      "execution_count": 9,
      "outputs": [
        {
          "output_type": "stream",
          "name": "stdout",
          "text": [
            "50.24\n",
            "4\n"
          ]
        }
      ]
    },
    {
      "cell_type": "markdown",
      "metadata": {
        "id": "KjPWYK0Rs8By"
      },
      "source": [
        "## <u>Problem 2</u>\n",
        "\n",
        "### You started your own money wallet where your customers can create their accounts and they can either deposit or withdraw money from this wallet.\n",
        "\n",
        "### Write a Python class <code>BankAccount</code> which takes the balance as an attribute. You can initialize the balance with 0 because any new account will have 0 rupees in their wallet. Next write two methods for your class :\n",
        "\n",
        "* #### <code>withdraw()</code> method which takes the amount to be withdrawn as an argument and returns the balance after the withdrawal\n",
        "\n",
        "* #### <code>deposit()</code> method which takes the amount to be deposited as an argument and returns the balance after the deposit.\n",
        "\n",
        "### Keep in mind that if the balance to be withdrawn exceeds the current balance, it should display a message that \"Not enough balance in your account\"\n"
      ]
    },
    {
      "cell_type": "code",
      "metadata": {
        "id": "RxVZTrenzfHC"
      },
      "source": [
        "# Write your BankAccount class below \n",
        "\n",
        "class BankAccount:\n",
        "  def __init__(self,balance=0):\n",
        "    self.balance=balance\n",
        "  def deposite(self,amount):\n",
        "    self.balance+=amount \n",
        "    return self.balance\n",
        "  def withdraw(self,amount):\n",
        "    if self.balance < amount:\n",
        "      print('Not enough Balance in your account')\n",
        "    else:\n",
        "      self.balance -= amount\n",
        "      return self.balance      \n",
        "\n",
        "\n",
        "\n",
        "\n",
        "\n",
        "\n",
        "\n",
        "\n",
        "\n",
        "\n",
        "\n"
      ],
      "execution_count": 2,
      "outputs": []
    },
    {
      "cell_type": "code",
      "metadata": {
        "id": "N1Yhpkiws8B3"
      },
      "source": [
        "# Create two instances of this class for two customers\n",
        "azeem_account=BankAccount()\n",
        "asif_account=BankAccount(balance=10000)\n"
      ],
      "execution_count": 3,
      "outputs": []
    },
    {
      "cell_type": "markdown",
      "metadata": {
        "id": "mSTxPcO3fWeX"
      },
      "source": [
        "### Next add some amount and withdraw some another amount for both the customers."
      ]
    },
    {
      "cell_type": "code",
      "metadata": {
        "id": "KpMdlB5Fs8B8",
        "colab": {
          "base_uri": "https://localhost:8080/"
        },
        "outputId": "57ff0328-238d-45b6-fd2a-7c81604a188b"
      },
      "source": [
        "# Deposit some amount and withdrawing some amount from the two accounts and check if your method works fine\n",
        "\n",
        "azeem_account.deposite(200)\n",
        "# azeem_account.balance\n",
        "# asif_account.balance\n",
        "# asif_account.deposite(200)\n",
        "\n",
        "\n",
        "\n",
        "\n",
        "\n",
        "\n",
        "\n"
      ],
      "execution_count": 4,
      "outputs": [
        {
          "output_type": "execute_result",
          "data": {
            "text/plain": [
              "200"
            ]
          },
          "metadata": {},
          "execution_count": 4
        }
      ]
    },
    {
      "cell_type": "markdown",
      "metadata": {
        "id": "5qd8g8UUs8CM"
      },
      "source": [
        "## <u>Problem 3 </u>\n",
        "\n",
        "### Create a class <code>Time </code> which takes two inputs hours and minutes to instantiate.\n",
        "*  #### Construct a method <code>DisplayTime()</code> which displays the time in AM/PM formats. For example if the input is 14 hours and 45 mins, then this method will print \"The time is 2:45 PM\". If the inputted hours exceeds 23 then print the message \"The input hours should be less than 24\" and if the inputted minutes exceeds 59 then print the message \"The input minutes should be less than 60.\" Also if the input is 12 hours 30 minutes, then the displayed time would be 12:30 PM\n",
        "* #### Construct a method <code>DisplayRatio()</code> which should display the ratio of minutes to hours. For example, (8 hours and  16 mins) should display 2. Use <code>try</code>, <code>except</code> block to account for ZeroDivisionError."
      ]
    },
    {
      "cell_type": "code",
      "metadata": {
        "id": "FBJy9Sq_s8CN"
      },
      "source": [
        "class Time:\n",
        "  def __init__(self,hours,mins):\n",
        "    self.hours=hours\n",
        "    self.mins=mins\n",
        "\n",
        "  def DisplayTime (self):\n",
        "    if(self.hours>23) or (self.mins>59):\n",
        "      print(\"The input hour should be less than 24 and Input minutes should be less than 60\") \n",
        "    else:\n",
        "      if(self.hours<12)and(self.mins<60):\n",
        "        time_to_display =str(self.hours)+ \":\"+ str(self.mins)+ \"AM\"\n",
        "        print(f\"The time is{time_to_display}\")\n",
        "      elif(self.hours==12)and (self.mins<60):\n",
        "        time_to_display =str(self.hours)+ \":\"+ str(self.mins)+ \"PM\"\n",
        "        print(f\"The time is{time_to_display}\")\n",
        "      else:\n",
        "        time_to_display=str(self.hours-12) + \":\" + str(self.mins)+ \"PM\" \n",
        "        print(f\"The time is{time_to_display}\")\n",
        "\n",
        "  def DisplayRatio(self):\n",
        "    try:\n",
        "      print(self.mins/self.hours)\n",
        "    except:\n",
        "      print(\"The argument hours should not be zero\")\n",
        "            \n",
        "\n",
        "\n",
        "\n",
        "\n",
        "\n",
        "\n",
        "\n",
        "\n",
        "\n",
        "\n",
        "\n",
        "\n",
        "\n",
        "\n",
        "\n",
        "\n",
        "\n",
        "\n",
        "\n",
        "\n",
        "\n",
        "  "
      ],
      "execution_count": 11,
      "outputs": []
    },
    {
      "cell_type": "code",
      "metadata": {
        "id": "zywXa51d6Eev",
        "colab": {
          "base_uri": "https://localhost:8080/"
        },
        "outputId": "2992dbae-6936-45a9-c37b-69cb5b586535"
      },
      "source": [
        "# Check for few sample inputs of hours and mins\n",
        "hour_min_list = [(23,45), (34,50), (12,34), (14,67),(19,20), (2,15), (0, 10)]\n",
        "\n",
        "# Using a for loop display the corresponding 12 hour time format for the above hour_min_list\n",
        "for hour,min in hour_min_list:\n",
        "  A=Time(hour,min)\n",
        "  A.DisplayTime()\n",
        "\n",
        "\n",
        "\n",
        "\n",
        "\n",
        "# Also display the corresponding ratios for the above list\n",
        "\n",
        "\n"
      ],
      "execution_count": 12,
      "outputs": [
        {
          "output_type": "stream",
          "name": "stdout",
          "text": [
            "The time is11:45PM\n",
            "The input hour should be less than 24 and Input minutes should be less than 60\n",
            "The time is12:34PM\n",
            "The input hour should be less than 24 and Input minutes should be less than 60\n",
            "The time is7:20PM\n",
            "The time is2:15AM\n",
            "The time is0:10AM\n"
          ]
        }
      ]
    },
    {
      "cell_type": "code",
      "metadata": {
        "id": "mgcu1_SAjAqF"
      },
      "source": [],
      "execution_count": null,
      "outputs": []
    }
  ]
}