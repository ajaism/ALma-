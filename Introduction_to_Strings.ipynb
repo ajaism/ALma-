{
  "nbformat": 4,
  "nbformat_minor": 0,
  "metadata": {
    "kernelspec": {
      "display_name": "Python 3",
      "language": "python",
      "name": "python3"
    },
    "language_info": {
      "codemirror_mode": {
        "name": "ipython",
        "version": 3
      },
      "file_extension": ".py",
      "mimetype": "text/x-python",
      "name": "python",
      "nbconvert_exporter": "python",
      "pygments_lexer": "ipython3",
      "version": "3.7.4"
    },
    "colab": {
      "provenance": [],
      "include_colab_link": true
    }
  },
  "cells": [
    {
      "cell_type": "markdown",
      "metadata": {
        "id": "view-in-github",
        "colab_type": "text"
      },
      "source": [
        "<a href=\"https://colab.research.google.com/github/ajaism/Global-Variables/blob/master/Introduction_to_Strings.ipynb\" target=\"_parent\"><img src=\"https://colab.research.google.com/assets/colab-badge.svg\" alt=\"Open In Colab\"/></a>"
      ]
    },
    {
      "cell_type": "markdown",
      "metadata": {
        "id": "uoGoqLiHFo3U"
      },
      "source": [
        "## <u>While doing this assignment only use those concepts which have been taught till now</u>"
      ]
    },
    {
      "cell_type": "markdown",
      "metadata": {
        "id": "LJJbprE6Fo3V"
      },
      "source": [
        "## <u>Problem 1</u>\n",
        "\n",
        "You are given a sentence which reads <b>\"Wikipedia is a free online encyclopedia, created and edited by volunteers around the world and hosted by the Wikimedia Foundation.\"</b>\n",
        "\n",
        "Find the number of words in the given sentence."
      ]
    },
    {
      "cell_type": "code",
      "metadata": {
        "id": "bNs1w7lDFo3W"
      },
      "source": [
        "# Store the given sentence in a variable\n",
        "sentence = \"Wikipedia is a free online encyclopedia, created and edited by volunteers around the world and hosted by the Wikimedia Foundation.\""
      ],
      "execution_count": 1,
      "outputs": []
    },
    {
      "cell_type": "code",
      "metadata": {
        "id": "0pwUoE0VFo3b"
      },
      "source": [
        "# Calculate the total number of words in the sentence.  Hint : Use the count() method\n",
        "num_of_words = sentence.count(\" \")+1"
      ],
      "execution_count": 2,
      "outputs": []
    },
    {
      "cell_type": "code",
      "metadata": {
        "id": "Fb7lWgHY0g_X",
        "colab": {
          "base_uri": "https://localhost:8080/"
        },
        "outputId": "f667dd4a-c1c4-4ccb-d278-b819ae4a7552"
      },
      "source": [
        "# Print the variable num_of_words\n",
        "print(num_of_words)"
      ],
      "execution_count": 3,
      "outputs": [
        {
          "output_type": "stream",
          "name": "stdout",
          "text": [
            "20\n"
          ]
        }
      ]
    },
    {
      "cell_type": "markdown",
      "metadata": {
        "id": "KNwy8gqZFo3h"
      },
      "source": [
        "## <u>Problem 2 </u>\n",
        "\n",
        "Write a Python code which takes a number and returns a corresponding string of hyphens. For example if the number is 3, it will return '---' , if the number is 5 it will return '-----'"
      ]
    },
    {
      "cell_type": "code",
      "source": [
        "# Store the user input in a variable\n",
        "inputted_number = int(input())"
      ],
      "metadata": {
        "id": "udQ4rgEIQXWI",
        "colab": {
          "base_uri": "https://localhost:8080/"
        },
        "outputId": "539f8f4a-9dfe-4760-f4f1-5183bc04162d"
      },
      "execution_count": 4,
      "outputs": [
        {
          "name": "stdout",
          "output_type": "stream",
          "text": [
            "5\n"
          ]
        }
      ]
    },
    {
      "cell_type": "code",
      "metadata": {
        "id": "tX6VPyrQFo3m"
      },
      "source": [
        "# Create a string of equivalent number of hyphens. Hint : remember what happens when we multiply string by a number?\n",
        "string_of_hyphens = inputted_number*\"-\""
      ],
      "execution_count": 5,
      "outputs": []
    },
    {
      "cell_type": "code",
      "metadata": {
        "id": "AfJ1TmZVFo3s",
        "colab": {
          "base_uri": "https://localhost:8080/"
        },
        "outputId": "f9802834-cd95-4b8f-ba54-3f0474daf3f7"
      },
      "source": [
        "# Print the string of hyphens\n",
        "print(string_of_hyphens)"
      ],
      "execution_count": 6,
      "outputs": [
        {
          "output_type": "stream",
          "name": "stdout",
          "text": [
            "-----\n"
          ]
        }
      ]
    },
    {
      "cell_type": "markdown",
      "metadata": {
        "id": "hCG8HmhRFo3u"
      },
      "source": [
        "## <u> Problem 3 </u>\n",
        "\n",
        "A string can be called a safe bridge if it has no gaps in it i.e, no spaces. You are supposed to take an input from the user and print whether the string is a safe bridge or not."
      ]
    },
    {
      "cell_type": "code",
      "metadata": {
        "id": "QLoggGagFo3x",
        "outputId": "65fd123d-c006-4351-a3b9-d9fbf9b26454",
        "colab": {
          "base_uri": "https://localhost:8080/"
        }
      },
      "source": [
        "# Store the user input in a variable\n",
        "bridge = input()"
      ],
      "execution_count": 13,
      "outputs": [
        {
          "name": "stdout",
          "output_type": "stream",
          "text": [
            "azeem khan pathan\n"
          ]
        }
      ]
    },
    {
      "cell_type": "code",
      "metadata": {
        "id": "Zv5UgGr8Fo31"
      },
      "source": [
        "# Return True if the bridge is safe and False if the bridge is not safe. Hint : Use the find() method\n",
        "is_safe_bridge = bridge.find(\" \") ==-1\n",
        "# print(is_safe_bridge)"
      ],
      "execution_count": 14,
      "outputs": []
    },
    {
      "cell_type": "code",
      "metadata": {
        "id": "TBCckeOXFo35",
        "colab": {
          "base_uri": "https://localhost:8080/"
        },
        "outputId": "24b2036c-453e-46e6-b2a9-f47f884562cc"
      },
      "source": [
        "# Fill in the blanks\n",
        "print(f\"It is {is_safe_bridge} that the bridge is a safe bridge\" )"
      ],
      "execution_count": 15,
      "outputs": [
        {
          "output_type": "stream",
          "name": "stdout",
          "text": [
            "It is False that the bridge is a safe bridge\n"
          ]
        }
      ]
    },
    {
      "cell_type": "markdown",
      "metadata": {
        "id": "IO-p2ILHFo37"
      },
      "source": [
        "## <u>Problem 4</u>\n",
        "\n",
        "Count the number of D's in a string inputted by the user. This will be <b>case insensitive</b>."
      ]
    },
    {
      "cell_type": "code",
      "metadata": {
        "id": "CBqgtmkhFo38"
      },
      "source": [
        "# Store the user input in a variable\n",
        "user_string = 'Debris was scattered all over the yard in the densest region of Denmark'"
      ],
      "execution_count": 17,
      "outputs": []
    },
    {
      "cell_type": "code",
      "metadata": {
        "id": "-nKePpRMFo3-",
        "colab": {
          "base_uri": "https://localhost:8080/"
        },
        "outputId": "45e89bfe-a033-49bd-9478-cdcfae1117bc"
      },
      "source": [
        "# Store the count of letter D in the inputted string. Note this will be a case insensitive search\n",
        "D_counts = user_string.count(\"D\")\n",
        "# print(D_counts)"
      ],
      "execution_count": 19,
      "outputs": [
        {
          "output_type": "stream",
          "name": "stdout",
          "text": [
            "2\n"
          ]
        }
      ]
    },
    {
      "cell_type": "code",
      "metadata": {
        "id": "N9IXUH5AFo4A",
        "colab": {
          "base_uri": "https://localhost:8080/"
        },
        "outputId": "5380590a-a4d6-4e92-d660-1bae70303729"
      },
      "source": [
        "# Fill in the blanks\n",
        "print(f\"The total occurrence of D in the user_string is {D_counts}\")"
      ],
      "execution_count": 20,
      "outputs": [
        {
          "output_type": "stream",
          "name": "stdout",
          "text": [
            "The total occurrence of D in the user_string is 2\n"
          ]
        }
      ]
    },
    {
      "cell_type": "markdown",
      "metadata": {
        "id": "e40-mPXjFo4D"
      },
      "source": [
        "## <u>Problem 5</u>\n",
        "\n",
        "Check whether a given string is a palindrome. A palindrome is a word, number, phrase, or other sequence of characters which reads the same backward as forward, such as madam, racecar."
      ]
    },
    {
      "cell_type": "code",
      "metadata": {
        "id": "qs0ZYZkzFo4D",
        "colab": {
          "base_uri": "https://localhost:8080/"
        },
        "outputId": "4e178330-f4da-48b5-82bd-ca69f64ad5c4"
      },
      "source": [
        "# Store the user input in a variable\n",
        "user_string = input()"
      ],
      "execution_count": 26,
      "outputs": [
        {
          "name": "stdout",
          "output_type": "stream",
          "text": [
            "azeem\n"
          ]
        }
      ]
    },
    {
      "cell_type": "code",
      "metadata": {
        "id": "OTVGL16NFo4G",
        "colab": {
          "base_uri": "https://localhost:8080/"
        },
        "outputId": "79a738b6-ae44-4e0f-c963-7f0559921d4e"
      },
      "source": [
        "# Print True if a string is a Palindrome else print false\n",
        "user_string[::]== user_string[::-1]\n",
        "# print(user_string)"
      ],
      "execution_count": 27,
      "outputs": [
        {
          "output_type": "execute_result",
          "data": {
            "text/plain": [
              "False"
            ]
          },
          "metadata": {},
          "execution_count": 27
        }
      ]
    }
  ]
}