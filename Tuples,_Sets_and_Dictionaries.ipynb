{
  "nbformat": 4,
  "nbformat_minor": 0,
  "metadata": {
    "kernelspec": {
      "display_name": "Python 3",
      "language": "python",
      "name": "python3"
    },
    "language_info": {
      "codemirror_mode": {
        "name": "ipython",
        "version": 3
      },
      "file_extension": ".py",
      "mimetype": "text/x-python",
      "name": "python",
      "nbconvert_exporter": "python",
      "pygments_lexer": "ipython3",
      "version": "3.7.4"
    },
    "colab": {
      "provenance": [],
      "include_colab_link": true
    }
  },
  "cells": [
    {
      "cell_type": "markdown",
      "metadata": {
        "id": "view-in-github",
        "colab_type": "text"
      },
      "source": [
        "<a href=\"https://colab.research.google.com/github/ajaism/Global-Variables/blob/master/Tuples%2C_Sets_and_Dictionaries.ipynb\" target=\"_parent\"><img src=\"https://colab.research.google.com/assets/colab-badge.svg\" alt=\"Open In Colab\"/></a>"
      ]
    },
    {
      "cell_type": "markdown",
      "metadata": {
        "id": "8WbUJEVzs8Bx"
      },
      "source": [
        "## <u>While doing this assignment only use those concepts which have been taught till now</u>"
      ]
    },
    {
      "cell_type": "markdown",
      "metadata": {
        "id": "KjPWYK0Rs8By"
      },
      "source": [
        "## <u>Problem 1</u>\n",
        "\n",
        "### Another measure of average\n",
        "\n",
        "* Mode is defined as the value that appears most often in a set of data values. Mode corresponds to the most frequent value.\n",
        "* You are given a list of numbers and you need to calculate the mode of this list"
      ]
    },
    {
      "cell_type": "code",
      "metadata": {
        "id": "34TbaGurs8Bz"
      },
      "source": [
        "# A list containing average daily temperature over 10 days\n",
        "temperatures = [34, 40, 29, 33, 42, 40, 39, 34, 34,33 ]"
      ],
      "execution_count": null,
      "outputs": []
    },
    {
      "cell_type": "code",
      "metadata": {
        "id": "N1Yhpkiws8B3"
      },
      "source": [
        "# Step 1 : Find the unique set of values. Store this in a list\n",
        "unique_temperatures = set(temperatures)\n",
        "ut=sorted(list(unique_temperatures))\n",
        "\n"
      ],
      "execution_count": null,
      "outputs": []
    },
    {
      "cell_type": "code",
      "metadata": {
        "id": "KpMdlB5Fs8B8",
        "colab": {
          "base_uri": "https://localhost:8080/"
        },
        "outputId": "469dc501-1abb-4c2a-98ac-db27959683d2"
      },
      "source": [
        "# Print the unique temperature list\n",
        "print(ut)"
      ],
      "execution_count": null,
      "outputs": [
        {
          "output_type": "stream",
          "name": "stdout",
          "text": [
            "[29, 33, 34, 39, 40, 42]\n"
          ]
        }
      ]
    },
    {
      "cell_type": "code",
      "metadata": {
        "id": "J7CyJi_Ls8B_"
      },
      "source": [
        "# Step 2 : Create an empty dictionary which will contain the unique temperatures as keys and their counts in the original temperatures list as values\n",
        "temp_dict = {}\n",
        "\n",
        "# Set the values for each key separately\n",
        "# First key\n",
        "\n",
        "temp_dict = {ut[0]:temperatures.count(ut[0])}\n",
        "\n",
        "#  Second key\n",
        "\n",
        "temp_dict.update({ut[1]:temperatures.count(ut[1])})\n",
        "\n",
        "#  Third key\n",
        "\n",
        "temp_dict.update({ut[2]:temperatures.count(ut[2])})\n",
        "\n",
        "#  Fourth key\n",
        "\n",
        "temp_dict.update({ut[3]:temperatures.count(ut[3])})\n",
        "\n",
        "\n",
        "#  Fifth key\n",
        "\n",
        "temp_dict.update({ut[4]:temperatures.count(ut[4])})\n",
        "\n",
        "#  Sixth key\n",
        "\n",
        "temp_dict.update({ut[5]:temperatures.count(ut[5])})\n",
        "\n"
      ],
      "execution_count": null,
      "outputs": []
    },
    {
      "cell_type": "code",
      "source": [
        "temp_dict"
      ],
      "metadata": {
        "colab": {
          "base_uri": "https://localhost:8080/"
        },
        "id": "lsisKpGNGa9q",
        "outputId": "d364ccbf-a3b7-41cc-ef18-a0ba01a79656"
      },
      "execution_count": null,
      "outputs": [
        {
          "output_type": "execute_result",
          "data": {
            "text/plain": [
              "{29: 1, 33: 2, 34: 3, 39: 1, 40: 2, 42: 1}"
            ]
          },
          "metadata": {},
          "execution_count": 73
        }
      ]
    },
    {
      "cell_type": "code",
      "metadata": {
        "id": "4-ZxbmMxtWfQ",
        "colab": {
          "base_uri": "https://localhost:8080/"
        },
        "outputId": "94b02696-7e8c-4c4e-ca71-f11318a30995"
      },
      "source": [
        "# Step 3: Store the dictionary values in a list\n",
        "temp_dict_frequencies =list(temp_dict.values()) \n",
        "\n",
        "# Print the list of dictionary values\n",
        "print(temp_dict_frequencies)\n",
        "# Find the index of the most frequent temperature value\n",
        "max_count=max(temp_dict_frequencies)\n",
        "most_frequent_temp_index = temp_dict_frequencies.index(max_count)\n",
        "\n",
        "# Print the index\n",
        "print(most_frequent_temp_index)"
      ],
      "execution_count": null,
      "outputs": [
        {
          "output_type": "stream",
          "name": "stdout",
          "text": [
            "[1, 2, 3, 1, 2, 1]\n",
            "2\n"
          ]
        }
      ]
    },
    {
      "cell_type": "code",
      "metadata": {
        "id": "riu9mZhcwBY6",
        "colab": {
          "base_uri": "https://localhost:8080/"
        },
        "outputId": "1c51dd2c-55aa-44f9-8504-86a4293f7561"
      },
      "source": [
        "# Step 4 : Create the list of dictionary keys\n",
        "temp_dict_keys =list(temp_dict.keys()) \n",
        "\n",
        "# Print the list of dictionary keys\n",
        "print(temp_dict_keys)\n",
        "\n",
        "# Calculate the mode temperature\n",
        "mode_temp = temp_dict_keys[most_frequent_temp_index]\n",
        "print(mode_temp)"
      ],
      "execution_count": null,
      "outputs": [
        {
          "output_type": "stream",
          "name": "stdout",
          "text": [
            "[29, 33, 34, 39, 40, 42]\n",
            "34\n"
          ]
        }
      ]
    },
    {
      "cell_type": "markdown",
      "metadata": {
        "id": "5qd8g8UUs8CM"
      },
      "source": [
        "## <u>Problem 2 </u>\n",
        "\n",
        "### Challenging the immutability of tuples\n",
        "\n",
        "You are given a list of tuples. You need to replace the last element of the last tuple"
      ]
    },
    {
      "cell_type": "code",
      "metadata": {
        "id": "FBJy9Sq_s8CN"
      },
      "source": [
        "# Input list of tuples\n",
        "\n",
        "list_of_tuples = [(10,20,30),(30,40,50),(50,60,70)]\n",
        "\n",
        "\n",
        "# Expected output : Replace the last element 70 with 100\n",
        "# output_list = [(10,20,30),(30,40,50),(50,60,100)]"
      ],
      "execution_count": null,
      "outputs": []
    },
    {
      "cell_type": "code",
      "metadata": {
        "id": "UNtYax1as8CR",
        "colab": {
          "base_uri": "https://localhost:8080/"
        },
        "outputId": "fcdf8f73-c29f-41a8-9afd-7a05d5f62640"
      },
      "source": [
        "# Your code here \n",
        "lst=list_of_tuples[:-1] +[list_of_tuples[2][:-1]+(100,)]\n",
        "\n",
        "\n",
        "\n",
        "\n",
        "\n",
        "\n",
        "# Print the output list\n",
        "print(lst)"
      ],
      "execution_count": null,
      "outputs": [
        {
          "output_type": "stream",
          "name": "stdout",
          "text": [
            "[(10, 20, 30), (30, 40, 50), (50, 60, 100)]\n"
          ]
        }
      ]
    },
    {
      "cell_type": "markdown",
      "metadata": {
        "id": "ejRCi-vTs8CU"
      },
      "source": [
        "## <u> Problem 3 </u>\n",
        "\n",
        "Natural Language Processing or NLP is one of the most promising fields in Machine Learning. Most of the times in NLP we deal with the textual data (a bunch of strings). Sometimes when we are processing the text, it is a common practice to get rid of some set of stop words from our original text. By default stop words are very common words used in English language such as and, or, punctuations etc.\n",
        "\n",
        "In this exercise, you are provided with a default set of stop words and you need to add some extra set of custom words."
      ]
    },
    {
      "cell_type": "code",
      "metadata": {
        "id": "C5olNuDGs8CU"
      },
      "source": [
        "# A sample sentence \n",
        "\n",
        "sentence = 'Hello, good morning folks! Today we will announce the half yearly performance results of the company. Due to the ongoing COVID-19 pandemic, our profits have declined by 60% as compared to the last half yearly results'\n",
        "\n",
        "# Print your sentence\n"
      ],
      "execution_count": null,
      "outputs": []
    },
    {
      "cell_type": "code",
      "metadata": {
        "id": "B4afm8gCs8CY"
      },
      "source": [
        "# Default set of stop words \n",
        "stop_words = {\"i\", \"me\", \"my\", \"myself\", \"we\", \"our\", \"ours\", \"ourselves\", \"you\", \"your\", \"yours\", \"yourself\", \n",
        "              \"yourselves\", \"he\", \"him\", \"his\", \"himself\", \"she\", \"her\", \"hers\", \"herself\", \"it\", \"its\", \"itself\",\n",
        "              \"they\", \"them\", \"their\", \"theirs\", \"themselves\", \"what\", \"which\", \"who\", \"whom\", \"this\", \"that\",\n",
        "              \"these\", \"those\", \"am\", \"is\", \"are\", \"was\", \"were\", \"be\", \"been\", \"being\", \"have\", \"has\", \"had\",\n",
        "              \"having\", \"do\", \"does\", \"did\", \"doing\", \"a\", \"an\", \"the\", \"and\", \"but\", \"if\", \"or\", \"because\",\n",
        "              \"as\", \"until\", \"while\", \"of\", \"at\", \"by\", \"for\", \"with\", \"about\", \"against\", \"between\", \"into\",\n",
        "              \"through\", \"during\", \"before\", \"after\", \"above\", \"below\", \"to\", \"from\", \"up\", \"down\", \"in\", \"out\", \n",
        "              \"on\", \"off\", \"over\", \"under\", \"again\", \"further\", \"then\", \"once\", \"here\", \"there\", \"when\", \"where\",\n",
        "              \"why\", \"how\", \"all\", \"any\", \"both\", \"each\", \"few\", \"more\", \"most\", \"other\", \"some\", \"such\", \"no\",\n",
        "              \"nor\", \"not\", \"only\", \"own\", \"same\", \"so\", \"than\", \"too\", \"very\", \"s\", \"t\", \"can\", \"will\", \"just\",\n",
        "              \"don\", \"should\", \"now\"}\n"
      ],
      "execution_count": null,
      "outputs": []
    },
    {
      "cell_type": "code",
      "metadata": {
        "id": "evgHHnRks8Cc",
        "colab": {
          "base_uri": "https://localhost:8080/"
        },
        "outputId": "1ac20c6e-9b5f-4906-f9de-5f6fb83266a1"
      },
      "source": [
        "# Update the set of stop words by adding the custom stop words\n",
        "custom_stop_words = [\"hello\",\"good\",\"morning\",\"half\",\"yearly\"]\n",
        "\n",
        "# Your code here\n",
        "\n",
        "stop_words.update(custom_stop_words)\n",
        "# Print the updated stop words\n",
        "print(stop_words)"
      ],
      "execution_count": null,
      "outputs": [
        {
          "output_type": "stream",
          "name": "stdout",
          "text": [
            "{'below', 'these', 'just', 'myself', 'ours', 'had', 'not', 'through', 'this', 'before', 'again', 'until', 'hers', 'am', 'being', 'once', 'to', 'under', 'further', 'does', 'his', 'about', 'then', 'yourself', 'she', 'why', 'have', 'out', 'can', 'at', 'will', 'how', 'itself', 'as', 'yours', 'some', 'theirs', 'any', 'themselves', 'my', 'against', 'if', 'or', 'and', 'on', 'our', 'each', 'i', 'be', 'those', 'he', 'good', 'their', 'you', 'more', 'own', 'himself', 'by', 'of', 'such', 'that', 'they', 'morning', 'ourselves', 'because', 'after', 'hello', 'between', 'we', 'him', 'same', 'but', 'been', 'no', 'who', 'other', 'what', 'than', 'off', 'was', 'its', 'do', 'few', 'nor', 't', 'a', 'the', 'did', 'there', 'me', 'too', 'with', 'here', 'down', 'don', 'her', 'when', 'it', 'whom', 'has', 'doing', 'your', 'both', 'into', 'only', 'all', 'from', 'for', 'now', 'over', 'above', 'herself', 'up', 'so', 's', 'half', 'yearly', 'is', 'in', 'having', 'are', 'which', 'an', 'while', 'were', 'most', 'should', 'where', 'during', 'very', 'yourselves', 'them'}\n"
          ]
        }
      ]
    },
    {
      "cell_type": "code",
      "metadata": {
        "id": "1QbZrotrtIE3",
        "colab": {
          "base_uri": "https://localhost:8080/"
        },
        "outputId": "bf8049a0-dd77-41ae-f67f-6b36b0c66d42"
      },
      "source": [
        "# Do the same task another way. Keep in mind to use the original set of stop_words for this piece of code\n",
        "\n",
        "another_way=list(stop_words) + custom_stop_words\n",
        "\n",
        "# Print the updated stop words\n",
        "print(another_way)"
      ],
      "execution_count": null,
      "outputs": [
        {
          "output_type": "stream",
          "name": "stdout",
          "text": [
            "['below', 'these', 'just', 'myself', 'ours', 'had', 'not', 'through', 'this', 'before', 'again', 'until', 'hers', 'am', 'being', 'once', 'to', 'under', 'further', 'does', 'his', 'about', 'then', 'yourself', 'she', 'why', 'have', 'out', 'can', 'at', 'will', 'how', 'itself', 'as', 'yours', 'some', 'theirs', 'any', 'themselves', 'my', 'against', 'if', 'or', 'and', 'on', 'our', 'each', 'i', 'be', 'those', 'he', 'good', 'their', 'you', 'more', 'own', 'himself', 'by', 'of', 'such', 'that', 'they', 'morning', 'ourselves', 'because', 'after', 'hello', 'between', 'we', 'him', 'same', 'but', 'been', 'no', 'who', 'other', 'what', 'than', 'off', 'was', 'its', 'do', 'few', 'nor', 't', 'a', 'the', 'did', 'there', 'me', 'too', 'with', 'here', 'down', 'don', 'her', 'when', 'it', 'whom', 'has', 'doing', 'your', 'both', 'into', 'only', 'all', 'from', 'for', 'now', 'over', 'above', 'herself', 'up', 'so', 's', 'half', 'yearly', 'is', 'in', 'having', 'are', 'which', 'an', 'while', 'were', 'most', 'should', 'where', 'during', 'very', 'yourselves', 'them', 'hello', 'good', 'morning', 'half', 'yearly']\n"
          ]
        }
      ]
    },
    {
      "cell_type": "markdown",
      "metadata": {
        "id": "P1rOYC8Is8Cf"
      },
      "source": [
        "## <u>Problem 4</u>\n",
        "\n",
        " Write a Python script to check whether a given key already exists in a dictionary. If it does, drop that key from the dictionary. If it does not, add that key and corresponding value to the dictionary"
      ]
    },
    {
      "cell_type": "code",
      "metadata": {
        "id": "ySeGyCtCs8Cg"
      },
      "source": [
        "# Your dictionary\n",
        "employee_dict = {'Name':'Sanket','Skills':['Python','Machine Learning','Deep Learning'],'Band':6.0,\n",
        "                 'Promotion Year':[2016,2018,2020]}"
      ],
      "execution_count": null,
      "outputs": []
    },
    {
      "cell_type": "code",
      "metadata": {
        "id": "MI7mOHaqs8Cj",
        "colab": {
          "base_uri": "https://localhost:8080/"
        },
        "outputId": "20f6f482-b3bc-47f6-8ed9-00ba8f14ee9a"
      },
      "source": [
        "# Check if the key 'Employee_ID' is present in the dictionary. Hint : use a boolean variable to store this value\n",
        "'Employee_ID' in employee_dict\n",
        "\n",
        "# If not present add this key to this dictionary and the corresponding value to be 4503233\n",
        "employee_dict.update({'Employee_ID':4503233})\n",
        "print(employee_dict)"
      ],
      "execution_count": null,
      "outputs": [
        {
          "output_type": "stream",
          "name": "stdout",
          "text": [
            "{'Name': 'Sanket', 'Skills': ['Python', 'Machine Learning', 'Deep Learning'], 'Band': 6.0, 'Promotion Year': [2016, 2018, 2020], 'Employee_ID': 4503233}\n"
          ]
        }
      ]
    },
    {
      "cell_type": "code",
      "metadata": {
        "id": "ARPbZfY8s8Co",
        "colab": {
          "base_uri": "https://localhost:8080/"
        },
        "outputId": "a75ab650-856f-422c-fbef-11d5c07e41a5"
      },
      "source": [
        "# Check if the key 'Band' is present in the dictionary.\n",
        "\n",
        "'Band' in employee_dict\n",
        "# If present, drop this key from the dictionary\n",
        "employee_dict.pop('Band')"
      ],
      "execution_count": null,
      "outputs": [
        {
          "output_type": "execute_result",
          "data": {
            "text/plain": [
              "6.0"
            ]
          },
          "metadata": {},
          "execution_count": 66
        }
      ]
    },
    {
      "cell_type": "code",
      "metadata": {
        "id": "lUDbbyXmulzh",
        "colab": {
          "base_uri": "https://localhost:8080/"
        },
        "outputId": "7316aa43-54b8-480e-c4af-d182be476831"
      },
      "source": [
        "# Print the updated dictionary\n",
        "print(employee_dict)"
      ],
      "execution_count": null,
      "outputs": [
        {
          "output_type": "stream",
          "name": "stdout",
          "text": [
            "{'Name': 'Sanket', 'Skills': ['Python', 'Machine Learning', 'Deep Learning'], 'Promotion Year': [2016, 2018, 2020], 'Employee_ID': 4503233}\n"
          ]
        }
      ]
    }
  ]
}