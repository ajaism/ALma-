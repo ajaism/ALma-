{
  "nbformat": 4,
  "nbformat_minor": 0,
  "metadata": {
    "colab": {
      "provenance": [],
      "include_colab_link": true
    },
    "kernelspec": {
      "name": "python3",
      "display_name": "Python 3"
    }
  },
  "cells": [
    {
      "cell_type": "markdown",
      "metadata": {
        "id": "view-in-github",
        "colab_type": "text"
      },
      "source": [
        "<a href=\"https://colab.research.google.com/github/ajaism/ALma-/blob/master/NumPy_Operations.ipynb\" target=\"_parent\"><img src=\"https://colab.research.google.com/assets/colab-badge.svg\" alt=\"Open In Colab\"/></a>"
      ]
    },
    {
      "cell_type": "markdown",
      "metadata": {
        "id": "MKXTc2Tas23T"
      },
      "source": [
        "# <u> Use only those concepts which have been taught till now </u>"
      ]
    },
    {
      "cell_type": "code",
      "metadata": {
        "id": "0V3Xtuh9siNn"
      },
      "source": [
        "import numpy as np"
      ],
      "execution_count": null,
      "outputs": []
    },
    {
      "cell_type": "code",
      "source": [],
      "metadata": {
        "id": "byAfhz_HnAiX"
      },
      "execution_count": null,
      "outputs": []
    },
    {
      "cell_type": "markdown",
      "metadata": {
        "id": "Ase3qjp9cJUC"
      },
      "source": [
        "# <u>**Problem 1**</u>\n",
        "\n",
        "### What is the average value of the first 5 rows of the third and fourth columns?\n",
        "\n"
      ]
    },
    {
      "cell_type": "code",
      "metadata": {
        "id": "xj0SaK7smcPu",
        "outputId": "8ccc2a93-302f-47c7-82ee-11650f2efa35",
        "colab": {
          "base_uri": "https://localhost:8080/"
        }
      },
      "source": [
        "np.random.seed(21) # This guarantees the code will generate the same set of random numbers whenever executed\n",
        "random_integers = np.random.randint(1,high=500000, size=(20, 5))\n",
        "random_integers"
      ],
      "execution_count": null,
      "outputs": [
        {
          "output_type": "execute_result",
          "data": {
            "text/plain": [
              "array([[ 80842, 333008, 202553, 140037,  81969],\n",
              "       [ 63857,  42105, 261540, 481981, 176739],\n",
              "       [489984, 326386, 110795, 394863,  25024],\n",
              "       [ 38317,  49982, 408830, 485118,  16119],\n",
              "       [407675, 231729, 265455, 109413, 103399],\n",
              "       [174677, 343356, 301717, 224120, 401101],\n",
              "       [140473, 254634, 112262,  25063, 108262],\n",
              "       [375059, 406983, 208947, 115641, 296685],\n",
              "       [444899, 129585, 171318, 313094, 425041],\n",
              "       [188411, 335140, 141681,  59641, 211420],\n",
              "       [287650,   8973, 477425, 382803, 465168],\n",
              "       [  3975,  32213, 160603, 275485, 388234],\n",
              "       [246225,  56174, 244097,   9350, 496966],\n",
              "       [225516, 273338,  73335, 283013, 212813],\n",
              "       [ 38175, 282399, 318413, 337639, 379802],\n",
              "       [198049, 101115, 419547, 260219, 325793],\n",
              "       [148593, 425024, 348570, 117968, 107007],\n",
              "       [ 52547, 180346, 178760, 305186, 262153],\n",
              "       [ 11835, 449971, 494184, 472031, 353049],\n",
              "       [476442,  35455, 191553, 384154,  29917]])"
            ]
          },
          "metadata": {},
          "execution_count": 2
        }
      ]
    },
    {
      "cell_type": "code",
      "metadata": {
        "id": "N1hhYCZw3V1c",
        "outputId": "69a945cd-04b9-4067-a69b-470b8bc06a0c",
        "colab": {
          "base_uri": "https://localhost:8080/"
        }
      },
      "source": [
        "# Your code here\n",
        "third_col = random_integers[:5, 2]  # Select first 5 rows of third column\n",
        "fourth_col = random_integers[:5, 3]  # Select first 5 rows of fourth column\n",
        "\n",
        "mean = (np.mean(third_col) + np.mean(fourth_col)) / 2  # Calculate the average of the two column means\n",
        "print(mean)\n",
        "\n",
        "\n"
      ],
      "execution_count": null,
      "outputs": [
        {
          "output_type": "stream",
          "name": "stdout",
          "text": [
            "286058.5\n"
          ]
        }
      ]
    },
    {
      "cell_type": "markdown",
      "metadata": {
        "id": "POAj5sBgd3gd"
      },
      "source": [
        "#<u>**Problem 2**</u>\n",
        "\n",
        "### In this problem, we are going to calculate distances between some pairs of points :\n",
        "\n",
        "### <u> Measures of distances </u>\n",
        "* ### Euclidean Distance : The distance between two points $(x_{1},y_{1})$ , $(x_{2},y_{2})$ is defined as :\n",
        "${\\displaystyle d(x,y)={\\sqrt {(x_{1}-x_{2})^{2}+(y_{1}-y_{2})^{2}}}.}$\n",
        "\n",
        "* ### Manhattan Distance : The distance between two points $(x_{1},y_{1})$ , $(x_{2},y_{2})$ is defined as :\n",
        "${\\displaystyle d(x,y)=|x_{1}-x_{2}|+|y_{1}-y_{2}|}$\n"
      ]
    },
    {
      "cell_type": "markdown",
      "metadata": {
        "id": "lw7TLsfd-eXc"
      },
      "source": [
        "### Create a 2-D array of 10 points where the x-coordinates and the y-coordinates can take random integral values between 5 and 20.\n",
        "\n",
        "\n",
        "### Next, create two 1-D arrays(one for  Euclidean distance and the other for  Manhattan distance) for these points\n"
      ]
    },
    {
      "cell_type": "code",
      "metadata": {
        "id": "TOEq4PEP5y8X",
        "outputId": "88ff988d-9c33-4c5a-b273-765f07618a36",
        "colab": {
          "base_uri": "https://localhost:8080/"
        }
      },
      "source": [
        "# Create the 10 points\n",
        "import numpy as np\n",
        "np.random.seed(21)\n",
        "\n",
        "# Create 2-D array of 10 points with random integral values between 5 and 20 for x-coordinates and y-coordinates\n",
        "points = np.random.randint(5, 20, size=(10, 2))\n",
        "\n",
        "\n",
        "\n",
        "print(\"Points:\\n\", points)\n",
        "\n",
        "# print(\"Manhattan distances:\\n\", manhattan_dist)\n"
      ],
      "execution_count": null,
      "outputs": [
        {
          "output_type": "stream",
          "name": "stdout",
          "text": [
            "Points:\n",
            " [[14 13]\n",
            " [ 9  5]\n",
            " [ 5 13]\n",
            " [ 8 17]\n",
            " [ 7  6]\n",
            " [15 13]\n",
            " [19 17]\n",
            " [18 18]\n",
            " [14 18]\n",
            " [11 15]]\n"
          ]
        }
      ]
    },
    {
      "cell_type": "code",
      "metadata": {
        "id": "n86qvsfF6PO2",
        "outputId": "8d39abaa-c8ec-40af-b677-f5dec3201268",
        "colab": {
          "base_uri": "https://localhost:8080/"
        }
      },
      "source": [
        "# Calculate Euclidean distances between these pairs of points (total 10*10 = 100 pairs including self pairs). This should give you a 10*10 2-D array where each value corresponds to the distance between a pair\n",
        "\n",
        "# Calculate Euclidean distance for each pair of points\n",
        "euclidean_dist = []\n",
        "for i in range(len(points)):\n",
        "    for j in range(i+1, len(points)):\n",
        "        dist = np.sqrt((points[i][0]-points[j][0])**2 + (points[i][1]-points[j][1])**2)\n",
        "        euclidean_dist.append(dist)\n",
        "print(\"Euclidean distances:\\n\", euclidean_dist)\n",
        "\n"
      ],
      "execution_count": null,
      "outputs": [
        {
          "output_type": "stream",
          "name": "stdout",
          "text": [
            "Euclidean distances:\n",
            " [9.433981132056603, 9.0, 7.211102550927978, 9.899494936611665, 1.0, 6.4031242374328485, 6.4031242374328485, 5.0, 3.605551275463989, 8.94427190999916, 12.041594578792296, 2.23606797749979, 10.0, 15.620499351813308, 15.811388300841896, 13.92838827718412, 10.198039027185569, 5.0, 7.280109889280518, 10.0, 14.560219778561036, 13.92838827718412, 10.295630140987, 6.324555320336759, 11.045361017187261, 8.06225774829855, 11.0, 10.04987562112089, 6.082762530298219, 3.605551275463989, 10.63014581273465, 16.278820596099706, 16.278820596099706, 13.892443989449804, 9.848857801796104, 5.656854249492381, 5.830951894845301, 5.0990195135927845, 4.47213595499958, 1.4142135623730951, 5.0990195135927845, 8.246211251235321, 4.0, 7.615773105863909, 4.242640687119285]\n"
          ]
        }
      ]
    },
    {
      "cell_type": "code",
      "metadata": {
        "id": "-FIU9Wp97V3P",
        "outputId": "b82995f7-0de8-4d9f-bd25-1e0c6d787d93",
        "colab": {
          "base_uri": "https://localhost:8080/"
        }
      },
      "source": [
        "# Calculate Manhattan distances between these pairs of points (total 10*10 = 100 pairs inlcuding self pairs).This should give you a 10*10 2-D array where each value corresponds to the distance between a pair.\n",
        "\n",
        "# Calculate Manhattan distance for each pair of points\n",
        "manhattan_dist = []\n",
        "for i in range(len(points)):\n",
        "    for j in range(i+1, len(points)):\n",
        "        dist = abs(points[i][0]-points[j][0]) + abs(points[i][1]-points[j][1])\n",
        "        manhattan_dist.append(dist)\n",
        "print(\"manhattan distances:\\n\", manhattan_dist)\n",
        "\n",
        "\n"
      ],
      "execution_count": null,
      "outputs": [
        {
          "output_type": "stream",
          "name": "stdout",
          "text": [
            "manhattan distances:\n",
            " [13, 9, 10, 14, 1, 9, 9, 5, 5, 12, 13, 3, 14, 22, 22, 18, 12, 7, 9, 10, 18, 18, 14, 8, 12, 11, 11, 11, 7, 5, 15, 23, 23, 19, 13, 8, 8, 6, 6, 2, 6, 10, 4, 10, 6]\n"
          ]
        }
      ]
    },
    {
      "cell_type": "markdown",
      "metadata": {
        "id": "5ZaKtQlZBLoQ"
      },
      "source": [
        "## Find the closest pairs (excluding self pairs) on the basis of both the distance measures"
      ]
    },
    {
      "cell_type": "code",
      "metadata": {
        "id": "AeKJGamV6qnu",
        "outputId": "ddd30516-6728-4643-933a-ba3fe25444e2",
        "colab": {
          "base_uri": "https://localhost:8080/"
        }
      },
      "source": [
        "# Your code here\n",
        "\n",
        "\n",
        "import numpy as np\n",
        "\n",
        "# Create 2-D array of 10 points\n",
        "np.random.seed(42)\n",
        "points = np.random.randint(5, 20, size=(10, 2))\n",
        "\n",
        "# Initialize variables to keep track of closest pairs\n",
        "min_euclidean_dist = float('inf')\n",
        "min_manhattan_dist = float('inf')\n",
        "closest_euclidean_pair = None\n",
        "closest_manhattan_pair = None\n",
        "\n",
        "# Calculate distances between each pair of points\n",
        "for i in range(10):\n",
        "    for j in range(i+1, 10):\n",
        "        # Calculate Euclidean distance\n",
        "        euclidean_dist = np.sqrt(np.sum((points[i] - points[j])**2))\n",
        "        if euclidean_dist < min_euclidean_dist and euclidean_dist != 0:\n",
        "            min_euclidean_dist = euclidean_dist\n",
        "            closest_euclidean_pair = (i, j)\n",
        "        \n",
        "        # Calculate Manhattan distance\n",
        "        manhattan_dist = np.sum(np.abs(points[i] - points[j]))\n",
        "        if manhattan_dist < min_manhattan_dist and manhattan_dist != 0:\n",
        "            min_manhattan_dist = manhattan_dist\n",
        "            closest_manhattan_pair = (i, j)\n",
        "\n",
        "# Print closest pairs and distances\n",
        "print(\"Closest Euclidean distance:\", min_euclidean_dist)\n",
        "print(\"Closest Euclidean pair:\", closest_euclidean_pair)\n",
        "print(\"Closest Manhattan distance:\", min_manhattan_dist)\n",
        "print(\"Closest Manhattan pair:\", closest_manhattan_pair)\n",
        "\n"
      ],
      "execution_count": null,
      "outputs": [
        {
          "output_type": "stream",
          "name": "stdout",
          "text": [
            "Closest Euclidean distance: 1.4142135623730951\n",
            "Closest Euclidean pair: (0, 7)\n",
            "Closest Manhattan distance: 2\n",
            "Closest Manhattan pair: (0, 7)\n"
          ]
        }
      ]
    },
    {
      "cell_type": "markdown",
      "metadata": {
        "id": "rnEIpxdzfIhF"
      },
      "source": [
        "# <u>**Problem 3**</u>\n",
        "\n",
        "## Extract all the contiguous 3x3 blocks from a random 10x10 matrix. For example, the first matrix corresponds to [:3,:3], then the second matrix corresponds to [:3,1:4],.... Once you have covered the first three rows, then the next set of matrices would be [1:4,:3],[1:4,1:4],.... and so on and so forth. The last matrix would be [7:10,7:10]"
      ]
    },
    {
      "cell_type": "code",
      "metadata": {
        "id": "NuQh8LLBma-0",
        "outputId": "b4ccab06-5a5e-4328-ef0a-634f1524e427",
        "colab": {
          "base_uri": "https://localhost:8080/"
        }
      },
      "source": [
        "# Your code below ..\n",
        "\n",
        "\n",
        "\n",
        "\n",
        "\n",
        "import numpy as np\n",
        "\n",
        "# Create a random 10x10 matrix\n",
        "matrix = np.random.rand(10, 10)\n",
        "\n",
        "# Initialize an empty list to store the 3x3 blocks\n",
        "blocks = []\n",
        "\n",
        "# Loop through the rows of the matrix\n",
        "for i in range(matrix.shape[0] - 2):\n",
        "    # Loop through the columns of the matrix\n",
        "    for j in range(matrix.shape[1] - 2):\n",
        "        # Extract the 3x3 block\n",
        "        block = matrix[i:i+3, j:j+3]\n",
        "        # Append the block to the list\n",
        "        blocks.append(block)\n",
        "# matrix\n",
        "blocks\n",
        "\n",
        "\n"
      ],
      "execution_count": null,
      "outputs": [
        {
          "output_type": "execute_result",
          "data": {
            "text/plain": [
              "[array([[0.02058449, 0.96990985, 0.83244264],\n",
              "        [0.61185289, 0.13949386, 0.29214465],\n",
              "        [0.60754485, 0.17052412, 0.06505159]]),\n",
              " array([[0.96990985, 0.83244264, 0.21233911],\n",
              "        [0.13949386, 0.29214465, 0.36636184],\n",
              "        [0.17052412, 0.06505159, 0.94888554]]),\n",
              " array([[0.83244264, 0.21233911, 0.18182497],\n",
              "        [0.29214465, 0.36636184, 0.45606998],\n",
              "        [0.06505159, 0.94888554, 0.96563203]]),\n",
              " array([[0.21233911, 0.18182497, 0.18340451],\n",
              "        [0.36636184, 0.45606998, 0.78517596],\n",
              "        [0.94888554, 0.96563203, 0.80839735]]),\n",
              " array([[0.18182497, 0.18340451, 0.30424224],\n",
              "        [0.45606998, 0.78517596, 0.19967378],\n",
              "        [0.96563203, 0.80839735, 0.30461377]]),\n",
              " array([[0.18340451, 0.30424224, 0.52475643],\n",
              "        [0.78517596, 0.19967378, 0.51423444],\n",
              "        [0.80839735, 0.30461377, 0.09767211]]),\n",
              " array([[0.30424224, 0.52475643, 0.43194502],\n",
              "        [0.19967378, 0.51423444, 0.59241457],\n",
              "        [0.30461377, 0.09767211, 0.68423303]]),\n",
              " array([[0.52475643, 0.43194502, 0.29122914],\n",
              "        [0.51423444, 0.59241457, 0.04645041],\n",
              "        [0.09767211, 0.68423303, 0.44015249]]),\n",
              " array([[0.61185289, 0.13949386, 0.29214465],\n",
              "        [0.60754485, 0.17052412, 0.06505159],\n",
              "        [0.12203823, 0.49517691, 0.03438852]]),\n",
              " array([[0.13949386, 0.29214465, 0.36636184],\n",
              "        [0.17052412, 0.06505159, 0.94888554],\n",
              "        [0.49517691, 0.03438852, 0.9093204 ]]),\n",
              " array([[0.29214465, 0.36636184, 0.45606998],\n",
              "        [0.06505159, 0.94888554, 0.96563203],\n",
              "        [0.03438852, 0.9093204 , 0.25877998]]),\n",
              " array([[0.36636184, 0.45606998, 0.78517596],\n",
              "        [0.94888554, 0.96563203, 0.80839735],\n",
              "        [0.9093204 , 0.25877998, 0.66252228]]),\n",
              " array([[0.45606998, 0.78517596, 0.19967378],\n",
              "        [0.96563203, 0.80839735, 0.30461377],\n",
              "        [0.25877998, 0.66252228, 0.31171108]]),\n",
              " array([[0.78517596, 0.19967378, 0.51423444],\n",
              "        [0.80839735, 0.30461377, 0.09767211],\n",
              "        [0.66252228, 0.31171108, 0.52006802]]),\n",
              " array([[0.19967378, 0.51423444, 0.59241457],\n",
              "        [0.30461377, 0.09767211, 0.68423303],\n",
              "        [0.31171108, 0.52006802, 0.54671028]]),\n",
              " array([[0.51423444, 0.59241457, 0.04645041],\n",
              "        [0.09767211, 0.68423303, 0.44015249],\n",
              "        [0.52006802, 0.54671028, 0.18485446]]),\n",
              " array([[0.60754485, 0.17052412, 0.06505159],\n",
              "        [0.12203823, 0.49517691, 0.03438852],\n",
              "        [0.96958463, 0.77513282, 0.93949894]]),\n",
              " array([[0.17052412, 0.06505159, 0.94888554],\n",
              "        [0.49517691, 0.03438852, 0.9093204 ],\n",
              "        [0.77513282, 0.93949894, 0.89482735]]),\n",
              " array([[0.06505159, 0.94888554, 0.96563203],\n",
              "        [0.03438852, 0.9093204 , 0.25877998],\n",
              "        [0.93949894, 0.89482735, 0.59789998]]),\n",
              " array([[0.94888554, 0.96563203, 0.80839735],\n",
              "        [0.9093204 , 0.25877998, 0.66252228],\n",
              "        [0.89482735, 0.59789998, 0.92187424]]),\n",
              " array([[0.96563203, 0.80839735, 0.30461377],\n",
              "        [0.25877998, 0.66252228, 0.31171108],\n",
              "        [0.59789998, 0.92187424, 0.0884925 ]]),\n",
              " array([[0.80839735, 0.30461377, 0.09767211],\n",
              "        [0.66252228, 0.31171108, 0.52006802],\n",
              "        [0.92187424, 0.0884925 , 0.19598286]]),\n",
              " array([[0.30461377, 0.09767211, 0.68423303],\n",
              "        [0.31171108, 0.52006802, 0.54671028],\n",
              "        [0.0884925 , 0.19598286, 0.04522729]]),\n",
              " array([[0.09767211, 0.68423303, 0.44015249],\n",
              "        [0.52006802, 0.54671028, 0.18485446],\n",
              "        [0.19598286, 0.04522729, 0.32533033]]),\n",
              " array([[0.12203823, 0.49517691, 0.03438852],\n",
              "        [0.96958463, 0.77513282, 0.93949894],\n",
              "        [0.38867729, 0.27134903, 0.82873751]]),\n",
              " array([[0.49517691, 0.03438852, 0.9093204 ],\n",
              "        [0.77513282, 0.93949894, 0.89482735],\n",
              "        [0.27134903, 0.82873751, 0.35675333]]),\n",
              " array([[0.03438852, 0.9093204 , 0.25877998],\n",
              "        [0.93949894, 0.89482735, 0.59789998],\n",
              "        [0.82873751, 0.35675333, 0.28093451]]),\n",
              " array([[0.9093204 , 0.25877998, 0.66252228],\n",
              "        [0.89482735, 0.59789998, 0.92187424],\n",
              "        [0.35675333, 0.28093451, 0.54269608]]),\n",
              " array([[0.25877998, 0.66252228, 0.31171108],\n",
              "        [0.59789998, 0.92187424, 0.0884925 ],\n",
              "        [0.28093451, 0.54269608, 0.14092422]]),\n",
              " array([[0.66252228, 0.31171108, 0.52006802],\n",
              "        [0.92187424, 0.0884925 , 0.19598286],\n",
              "        [0.54269608, 0.14092422, 0.80219698]]),\n",
              " array([[0.31171108, 0.52006802, 0.54671028],\n",
              "        [0.0884925 , 0.19598286, 0.04522729],\n",
              "        [0.14092422, 0.80219698, 0.07455064]]),\n",
              " array([[0.52006802, 0.54671028, 0.18485446],\n",
              "        [0.19598286, 0.04522729, 0.32533033],\n",
              "        [0.80219698, 0.07455064, 0.98688694]]),\n",
              " array([[0.96958463, 0.77513282, 0.93949894],\n",
              "        [0.38867729, 0.27134903, 0.82873751],\n",
              "        [0.77224477, 0.19871568, 0.00552212]]),\n",
              " array([[0.77513282, 0.93949894, 0.89482735],\n",
              "        [0.27134903, 0.82873751, 0.35675333],\n",
              "        [0.19871568, 0.00552212, 0.81546143]]),\n",
              " array([[0.93949894, 0.89482735, 0.59789998],\n",
              "        [0.82873751, 0.35675333, 0.28093451],\n",
              "        [0.00552212, 0.81546143, 0.70685734]]),\n",
              " array([[0.89482735, 0.59789998, 0.92187424],\n",
              "        [0.35675333, 0.28093451, 0.54269608],\n",
              "        [0.81546143, 0.70685734, 0.72900717]]),\n",
              " array([[0.59789998, 0.92187424, 0.0884925 ],\n",
              "        [0.28093451, 0.54269608, 0.14092422],\n",
              "        [0.70685734, 0.72900717, 0.77127035]]),\n",
              " array([[0.92187424, 0.0884925 , 0.19598286],\n",
              "        [0.54269608, 0.14092422, 0.80219698],\n",
              "        [0.72900717, 0.77127035, 0.07404465]]),\n",
              " array([[0.0884925 , 0.19598286, 0.04522729],\n",
              "        [0.14092422, 0.80219698, 0.07455064],\n",
              "        [0.77127035, 0.07404465, 0.35846573]]),\n",
              " array([[0.19598286, 0.04522729, 0.32533033],\n",
              "        [0.80219698, 0.07455064, 0.98688694],\n",
              "        [0.07404465, 0.35846573, 0.11586906]]),\n",
              " array([[0.38867729, 0.27134903, 0.82873751],\n",
              "        [0.77224477, 0.19871568, 0.00552212],\n",
              "        [0.86310343, 0.62329813, 0.33089802]]),\n",
              " array([[0.27134903, 0.82873751, 0.35675333],\n",
              "        [0.19871568, 0.00552212, 0.81546143],\n",
              "        [0.62329813, 0.33089802, 0.06355835]]),\n",
              " array([[0.82873751, 0.35675333, 0.28093451],\n",
              "        [0.00552212, 0.81546143, 0.70685734],\n",
              "        [0.33089802, 0.06355835, 0.31098232]]),\n",
              " array([[0.35675333, 0.28093451, 0.54269608],\n",
              "        [0.81546143, 0.70685734, 0.72900717],\n",
              "        [0.06355835, 0.31098232, 0.32518332]]),\n",
              " array([[0.28093451, 0.54269608, 0.14092422],\n",
              "        [0.70685734, 0.72900717, 0.77127035],\n",
              "        [0.31098232, 0.32518332, 0.72960618]]),\n",
              " array([[0.54269608, 0.14092422, 0.80219698],\n",
              "        [0.72900717, 0.77127035, 0.07404465],\n",
              "        [0.32518332, 0.72960618, 0.63755747]]),\n",
              " array([[0.14092422, 0.80219698, 0.07455064],\n",
              "        [0.77127035, 0.07404465, 0.35846573],\n",
              "        [0.72960618, 0.63755747, 0.88721274]]),\n",
              " array([[0.80219698, 0.07455064, 0.98688694],\n",
              "        [0.07404465, 0.35846573, 0.11586906],\n",
              "        [0.63755747, 0.88721274, 0.47221493]]),\n",
              " array([[0.77224477, 0.19871568, 0.00552212],\n",
              "        [0.86310343, 0.62329813, 0.33089802],\n",
              "        [0.11959425, 0.71324479, 0.76078505]]),\n",
              " array([[0.19871568, 0.00552212, 0.81546143],\n",
              "        [0.62329813, 0.33089802, 0.06355835],\n",
              "        [0.71324479, 0.76078505, 0.5612772 ]]),\n",
              " array([[0.00552212, 0.81546143, 0.70685734],\n",
              "        [0.33089802, 0.06355835, 0.31098232],\n",
              "        [0.76078505, 0.5612772 , 0.77096718]]),\n",
              " array([[0.81546143, 0.70685734, 0.72900717],\n",
              "        [0.06355835, 0.31098232, 0.32518332],\n",
              "        [0.5612772 , 0.77096718, 0.4937956 ]]),\n",
              " array([[0.70685734, 0.72900717, 0.77127035],\n",
              "        [0.31098232, 0.32518332, 0.72960618],\n",
              "        [0.77096718, 0.4937956 , 0.52273283]]),\n",
              " array([[0.72900717, 0.77127035, 0.07404465],\n",
              "        [0.32518332, 0.72960618, 0.63755747],\n",
              "        [0.4937956 , 0.52273283, 0.42754102]]),\n",
              " array([[0.77127035, 0.07404465, 0.35846573],\n",
              "        [0.72960618, 0.63755747, 0.88721274],\n",
              "        [0.52273283, 0.42754102, 0.02541913]]),\n",
              " array([[0.07404465, 0.35846573, 0.11586906],\n",
              "        [0.63755747, 0.88721274, 0.47221493],\n",
              "        [0.42754102, 0.02541913, 0.10789143]]),\n",
              " array([[0.86310343, 0.62329813, 0.33089802],\n",
              "        [0.11959425, 0.71324479, 0.76078505],\n",
              "        [0.03142919, 0.63641041, 0.31435598]]),\n",
              " array([[0.62329813, 0.33089802, 0.06355835],\n",
              "        [0.71324479, 0.76078505, 0.5612772 ],\n",
              "        [0.63641041, 0.31435598, 0.50857069]]),\n",
              " array([[0.33089802, 0.06355835, 0.31098232],\n",
              "        [0.76078505, 0.5612772 , 0.77096718],\n",
              "        [0.31435598, 0.50857069, 0.90756647]]),\n",
              " array([[0.06355835, 0.31098232, 0.32518332],\n",
              "        [0.5612772 , 0.77096718, 0.4937956 ],\n",
              "        [0.50857069, 0.90756647, 0.24929223]]),\n",
              " array([[0.31098232, 0.32518332, 0.72960618],\n",
              "        [0.77096718, 0.4937956 , 0.52273283],\n",
              "        [0.90756647, 0.24929223, 0.41038292]]),\n",
              " array([[0.32518332, 0.72960618, 0.63755747],\n",
              "        [0.4937956 , 0.52273283, 0.42754102],\n",
              "        [0.24929223, 0.41038292, 0.75555114]]),\n",
              " array([[0.72960618, 0.63755747, 0.88721274],\n",
              "        [0.52273283, 0.42754102, 0.02541913],\n",
              "        [0.41038292, 0.75555114, 0.22879817]]),\n",
              " array([[0.63755747, 0.88721274, 0.47221493],\n",
              "        [0.42754102, 0.02541913, 0.10789143],\n",
              "        [0.75555114, 0.22879817, 0.07697991]])]"
            ]
          },
          "metadata": {},
          "execution_count": 8
        }
      ]
    },
    {
      "cell_type": "markdown",
      "metadata": {
        "id": "UtGDDH9Qq_2M"
      },
      "source": [
        "#<u>**Problem 4**</u>\n",
        "\n",
        "### Write a function which finds the nearest value from a given value in an array of random N elements. Suppose you created an 1-D array with 15 elements taking values between 10 and 500. Your function would take any input from these values and return the nearest value. (You can use np.abs() function)"
      ]
    },
    {
      "cell_type": "code",
      "metadata": {
        "id": "oknMAmKWFNSX",
        "outputId": "1a2cc656-108a-403f-d2cc-b82c5b85b760",
        "colab": {
          "base_uri": "https://localhost:8080/"
        }
      },
      "source": [
        "# Your function below\n",
        "\n",
        "import numpy as np\n",
        "\n",
        "def find_nearest(array, value):\n",
        "    idx = np.abs(array - value).argmin()\n",
        "    return array[idx]\n",
        "    \n",
        "# Example usage\n",
        "random_array = np.random.randint(10, 500, size=15)\n",
        "value = 250\n",
        "nearest_value = find_nearest(random_array, value)\n",
        "print(f\"Random array: {random_array}\")\n",
        "print(f\"Value: {value}\")\n",
        "print(f\"Nearest value: {nearest_value}\")\n",
        "\n",
        "\n"
      ],
      "execution_count": null,
      "outputs": [
        {
          "output_type": "stream",
          "name": "stdout",
          "text": [
            "Random array: [196 252  95 293  75 179  54  71 450 143 293  37 117  53 349]\n",
            "Value: 250\n",
            "Nearest value: 252\n"
          ]
        }
      ]
    }
  ]
}