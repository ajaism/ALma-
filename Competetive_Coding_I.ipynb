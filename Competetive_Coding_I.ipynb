{
  "nbformat": 4,
  "nbformat_minor": 0,
  "metadata": {
    "colab": {
      "provenance": [],
      "include_colab_link": true
    },
    "kernelspec": {
      "name": "python3",
      "display_name": "Python 3"
    }
  },
  "cells": [
    {
      "cell_type": "markdown",
      "metadata": {
        "id": "view-in-github",
        "colab_type": "text"
      },
      "source": [
        "<a href=\"https://colab.research.google.com/github/ajaism/ALma-/blob/master/Competetive_Coding_I.ipynb\" target=\"_parent\"><img src=\"https://colab.research.google.com/assets/colab-badge.svg\" alt=\"Open In Colab\"/></a>"
      ]
    },
    {
      "cell_type": "markdown",
      "metadata": {
        "id": "XA-b8BLzYrbe"
      },
      "source": [
        "\n",
        "# Time : 1 hour\n",
        "\n",
        "# Problem Statement"
      ]
    },
    {
      "cell_type": "markdown",
      "metadata": {
        "id": "soIV-F7Wcbp3"
      },
      "source": [
        "### A student is taking a cryptography class and has found anagrams to be very useful. Two strings are anagrams of each other if the first string's letters can be rearranged to form the second string. In other words, both strings must contain the same exact letters in the same exact frequency. For example, bacdc and dcbac are anagrams, but bacdc and dcbad are not.\n",
        "\n",
        "### The student decides on an encryption scheme that involves two large strings. The encryption is dependent on the minimum number of character deletions required to make the two strings anagrams. You need to determine this number.\n",
        "\n",
        "### Given two strings, $a$ and $b$, that may or may not be of the same length, determine the minimum number of character deletions required to make $a$ and $b$ anagrams. Any characters can be deleted from either of the strings. The strings $a$ and $b$ consist of lowercase English alphabets."
      ]
    },
    {
      "cell_type": "markdown",
      "metadata": {
        "id": "TS0zgz0PcfYz"
      },
      "source": [
        "**Example**\n",
        "\n",
        "<code>a = 'cde'</code>\n",
        "\n",
        "<code>b = 'dcf' </code>"
      ]
    },
    {
      "cell_type": "markdown",
      "metadata": {
        "id": "kxZ3mdXsckZm"
      },
      "source": [
        "### Delete $e$ from $a$ and $f$ from $b$ so that the remaining strings are $cd$ and $dc$ which are anagrams. This takes 2 character deletions."
      ]
    },
    {
      "cell_type": "markdown",
      "metadata": {
        "id": "1QlkSP3KcozS"
      },
      "source": [
        "## **Function Description**\n",
        "\n",
        "### Create a <code>makeAnagram</code> function below.\n",
        "\n",
        "### **Inputs:**\n",
        "\n",
        "### string a: a string\n",
        "\n",
        "### string b: another string\n",
        "\n",
        "### **Output:**\n",
        "\n",
        "### int: the minimum total characters that must be deleted"
      ]
    },
    {
      "cell_type": "markdown",
      "metadata": {
        "id": "-woYEa44Z-Cf"
      },
      "source": [
        "# Solution"
      ]
    },
    {
      "cell_type": "code",
      "metadata": {
        "id": "sJ6O2MtIZ9dP"
      },
      "source": [
        "def makeAnagram(a, b):\n",
        "    # Convert the strings to lists of characters\n",
        "    a_chars = list(a)\n",
        "    b_chars = list(b)\n",
        "    \n",
        "    # Initialize a dictionary to count the frequency of each character in both strings\n",
        "    char_freq = {}\n",
        "    \n",
        "    # Count the frequency of each character in string a\n",
        "    for char in a_chars:\n",
        "        if char in char_freq:\n",
        "            char_freq[char] += 1\n",
        "        else:\n",
        "            char_freq[char] = 1\n",
        "    \n",
        "    # Count the frequency of each character in string b and subtract the counts from the dictionary\n",
        "    for char in b_chars:\n",
        "        if char in char_freq:\n",
        "            char_freq[char] -= 1\n",
        "        else:\n",
        "            char_freq[char] = -1\n",
        "    \n",
        "    # Calculate the total number of character deletions required to make the strings anagrams\n",
        "    total_deletions = 0\n",
        "    for char in char_freq:\n",
        "        total_deletions += abs(char_freq[char])\n",
        "    \n",
        "    return total_deletions\n"
      ],
      "execution_count": null,
      "outputs": []
    },
    {
      "cell_type": "code",
      "metadata": {
        "id": "COgSp7CXYczM",
        "colab": {
          "base_uri": "https://localhost:8080/"
        },
        "outputId": "ed4e17b4-1dff-4eb0-adaa-051abec12e9d"
      },
      "source": [
        "a = 'cde'\n",
        "b = 'dcf'\n",
        "result = makeAnagram(a, b)\n",
        "print(result) \n"
      ],
      "execution_count": null,
      "outputs": [
        {
          "output_type": "stream",
          "name": "stdout",
          "text": [
            "2\n"
          ]
        }
      ]
    }
  ]
}